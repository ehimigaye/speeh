{
 "cells": [
  {
   "cell_type": "code",
   "execution_count": 11,
   "id": "b52c99dc-3389-4aeb-92ba-0fd0735f49d9",
   "metadata": {},
   "outputs": [
    {
     "name": "stdout",
     "output_type": "stream",
     "text": [
      "Requirement already satisfied: PyAudio in c:\\users\\toshiba\\anaconda3\\lib\\site-packages (0.2.13)\n",
      "Note: you may need to restart the kernel to use updated packages.\n"
     ]
    },
    {
     "name": "stderr",
     "output_type": "stream",
     "text": [
      "WARNING: Ignoring invalid distribution -cipy (c:\\users\\toshiba\\anaconda3\\lib\\site-packages)\n",
      "WARNING: Ignoring invalid distribution -cipy (c:\\users\\toshiba\\anaconda3\\lib\\site-packages)\n",
      "WARNING: Ignoring invalid distribution -cipy (c:\\users\\toshiba\\anaconda3\\lib\\site-packages)\n",
      "WARNING: Ignoring invalid distribution -cipy (c:\\users\\toshiba\\anaconda3\\lib\\site-packages)\n",
      "WARNING: Ignoring invalid distribution -cipy (c:\\users\\toshiba\\anaconda3\\lib\\site-packages)\n",
      "WARNING: Ignoring invalid distribution -cipy (c:\\users\\toshiba\\anaconda3\\lib\\site-packages)\n"
     ]
    }
   ],
   "source": [
    "pip install PyAudio"
   ]
  },
  {
   "cell_type": "code",
   "execution_count": 1,
   "id": "9c4e7b49-24c3-4cb4-8db7-ff15be367d4a",
   "metadata": {},
   "outputs": [],
   "source": [
    "import streamlit as st\n",
    "import speech_recognition as sr"
   ]
  },
  {
   "cell_type": "code",
   "execution_count": 2,
   "id": "b280b0bc-c2a7-482d-983f-c291b942d00d",
   "metadata": {},
   "outputs": [
    {
     "name": "stderr",
     "output_type": "stream",
     "text": [
      "2023-09-19 14:30:21.785 \n",
      "  \u001b[33m\u001b[1mWarning:\u001b[0m to view this Streamlit app on a browser, run it with the following\n",
      "  command:\n",
      "\n",
      "    streamlit run C:\\Users\\toshiba\\anaconda3\\lib\\site-packages\\ipykernel_launcher.py [ARGUMENTS]\n"
     ]
    }
   ],
   "source": [
    "option = st.selectbox(\n",
    "    'Choisissez une API de reconnaissance faciale :',\n",
    "    ('Google Speech Recognition', 'Pyaudio', 'Librosa')\n",
    ")\n",
    "st.write('Vous avez sélectionné:', option)"
   ]
  },
  {
   "cell_type": "code",
   "execution_count": 9,
   "id": "3369ea62-678d-41bb-9f11-73a28e835860",
   "metadata": {},
   "outputs": [],
   "source": [
    "def transcribe_speech():\n",
    "    # Initialize recognizer class\n",
    "    r = sr.Recognizer()\n",
    "    # Reading Microphone as source\n",
    "    with sr.Microphone() as source:\n",
    "        st.info(\"Parler maintenant \")\n",
    "        # listen for speech and store in audio_text variable\n",
    "        audio_text = r.listen(source)\n",
    "        st.info(\"Transciption ...\")\n",
    "    \n",
    "\n",
    "        try:\n",
    "            status = st.radio(\"Select Gender: \", ('Francais', 'Anglais','Espagnol'))\n",
    "            if status == \"Francais\" :\n",
    "                 text = r.recognize_google(audio_text, language=\"fr-FR\")\n",
    "                 return text\n",
    "                    \n",
    "            if status == \"Anglais\" :\n",
    "                 text = r.recognize_google(audio_text, language=\"en-GB\")\n",
    "                 return text\n",
    "                \n",
    "            if status == \"Espagnol\" :\n",
    "                 text = r.recognize_google(audio_text, language=\"es-AR\")\n",
    "                 return text\n",
    "        \n",
    "        \n",
    "        \n",
    "        except:\n",
    "            return \"Desole impossible à transcrire\""
   ]
  },
  {
   "cell_type": "code",
   "execution_count": 5,
   "id": "db971934-fb75-44a8-9fad-1a88ebda5921",
   "metadata": {},
   "outputs": [],
   "source": [
    "def main():\n",
    "    st.title(\"reconnaissance vocale \")\n",
    "    st.write(\"Clicker pour commencer à lire votre texte:\")\n",
    "\n",
    "    # add a button to trigger speech recognition\n",
    "    if st.button(\"enregistrement\"):\n",
    "        text = transcribe_speech()\n",
    "        st.write(\"Transcription: \", text)\n",
    "if __name__ == \"__main__\":\n",
    "    main()"
   ]
  },
  {
   "cell_type": "code",
   "execution_count": null,
   "id": "f92afbbf-db46-40a8-b436-4181be3543ec",
   "metadata": {},
   "outputs": [],
   "source": []
  }
 ],
 "metadata": {
  "kernelspec": {
   "display_name": "Python 3 (ipykernel)",
   "language": "python",
   "name": "python3"
  },
  "language_info": {
   "codemirror_mode": {
    "name": "ipython",
    "version": 3
   },
   "file_extension": ".py",
   "mimetype": "text/x-python",
   "name": "python",
   "nbconvert_exporter": "python",
   "pygments_lexer": "ipython3",
   "version": "3.10.9"
  }
 },
 "nbformat": 4,
 "nbformat_minor": 5
}
